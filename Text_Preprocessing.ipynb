{
  "nbformat": 4,
  "nbformat_minor": 0,
  "metadata": {
    "colab": {
      "name": "Text_Preprocessing.ipynb",
      "provenance": [],
      "collapsed_sections": [],
      "include_colab_link": true
    },
    "kernelspec": {
      "name": "python3",
      "display_name": "Python 3"
    },
    "language_info": {
      "name": "python"
    }
  },
  "cells": [
    {
      "cell_type": "markdown",
      "metadata": {
        "id": "view-in-github",
        "colab_type": "text"
      },
      "source": [
        "<a href=\"https://colab.research.google.com/github/Avupati-Sai-Likhitha/Major-Project-Sentiment-Analysis-/blob/main/Text_Preprocessing.ipynb\" target=\"_parent\"><img src=\"https://colab.research.google.com/assets/colab-badge.svg\" alt=\"Open In Colab\"/></a>"
      ]
    },
    {
      "cell_type": "code",
      "metadata": {
        "id": "hFi38q49ssTl"
      },
      "source": [
        "import requests\n",
        "from bs4 import BeautifulSoup\n",
        "import pandas as pd"
      ],
      "execution_count": null,
      "outputs": []
    },
    {
      "cell_type": "code",
      "metadata": {
        "id": "pu90Wn-ZssTo"
      },
      "source": [
        "reviews = pd.read_csv('Scraping.csv')"
      ],
      "execution_count": null,
      "outputs": []
    },
    {
      "cell_type": "code",
      "metadata": {
        "id": "Pjs5r7ZapV6F"
      },
      "source": [
        "reviews['Cleaned_Reviews'] = reviews['Customer_Reviews']"
      ],
      "execution_count": null,
      "outputs": []
    },
    {
      "cell_type": "code",
      "metadata": {
        "colab": {
          "base_uri": "https://localhost:8080/",
          "height": 402
        },
        "id": "OuRNcSs4ssTp",
        "outputId": "f5b4491c-3c5c-47ff-9844-287d17526274"
      },
      "source": [
        "reviews"
      ],
      "execution_count": null,
      "outputs": [
        {
          "output_type": "execute_result",
          "data": {
            "text/html": [
              "<div>\n",
              "<style scoped>\n",
              "    .dataframe tbody tr th:only-of-type {\n",
              "        vertical-align: middle;\n",
              "    }\n",
              "\n",
              "    .dataframe tbody tr th {\n",
              "        vertical-align: top;\n",
              "    }\n",
              "\n",
              "    .dataframe thead th {\n",
              "        text-align: right;\n",
              "    }\n",
              "</style>\n",
              "<table border=\"1\" class=\"dataframe\">\n",
              "  <thead>\n",
              "    <tr style=\"text-align: right;\">\n",
              "      <th></th>\n",
              "      <th>Customer_Reviews</th>\n",
              "      <th>Cleaned_Reviews</th>\n",
              "    </tr>\n",
              "  </thead>\n",
              "  <tbody>\n",
              "    <tr>\n",
              "      <th>0</th>\n",
              "      <td>\\n\\n  Very slim ,light weight easily carry in ...</td>\n",
              "      <td>\\n\\n  Very slim ,light weight easily carry in ...</td>\n",
              "    </tr>\n",
              "    <tr>\n",
              "      <th>1</th>\n",
              "      <td>\\n\\n  I bought this exchanging my Acer Aspire ...</td>\n",
              "      <td>\\n\\n  I bought this exchanging my Acer Aspire ...</td>\n",
              "    </tr>\n",
              "    <tr>\n",
              "      <th>2</th>\n",
              "      <td>\\n\\n  initial impression is excellent...light ...</td>\n",
              "      <td>\\n\\n  initial impression is excellent...light ...</td>\n",
              "    </tr>\n",
              "    <tr>\n",
              "      <th>3</th>\n",
              "      <td>\\n\\n  I am a Computer Technician, and i have p...</td>\n",
              "      <td>\\n\\n  I am a Computer Technician, and i have p...</td>\n",
              "    </tr>\n",
              "    <tr>\n",
              "      <th>4</th>\n",
              "      <td>\\n\\n  I am writing this review after using the...</td>\n",
              "      <td>\\n\\n  I am writing this review after using the...</td>\n",
              "    </tr>\n",
              "    <tr>\n",
              "      <th>...</th>\n",
              "      <td>...</td>\n",
              "      <td>...</td>\n",
              "    </tr>\n",
              "    <tr>\n",
              "      <th>1654</th>\n",
              "      <td>\\n\\n  Good\\n\\n</td>\n",
              "      <td>\\n\\n  Good\\n\\n</td>\n",
              "    </tr>\n",
              "    <tr>\n",
              "      <th>1655</th>\n",
              "      <td>\\n\\n  Disappointed, slowest speed I seen ever,...</td>\n",
              "      <td>\\n\\n  Disappointed, slowest speed I seen ever,...</td>\n",
              "    </tr>\n",
              "    <tr>\n",
              "      <th>1656</th>\n",
              "      <td>\\n\\n  I would request buyers to kindly check t...</td>\n",
              "      <td>\\n\\n  I would request buyers to kindly check t...</td>\n",
              "    </tr>\n",
              "    <tr>\n",
              "      <th>1657</th>\n",
              "      <td>\\n\\n  Disappointed, slowest speed I seen ever,...</td>\n",
              "      <td>\\n\\n  Disappointed, slowest speed I seen ever,...</td>\n",
              "    </tr>\n",
              "    <tr>\n",
              "      <th>1658</th>\n",
              "      <td>\\n\\n  I would request buyers to kindly check t...</td>\n",
              "      <td>\\n\\n  I would request buyers to kindly check t...</td>\n",
              "    </tr>\n",
              "  </tbody>\n",
              "</table>\n",
              "<p>1659 rows × 2 columns</p>\n",
              "</div>"
            ],
            "text/plain": [
              "                                       Customer_Reviews                                    Cleaned_Reviews\n",
              "0     \\n\\n  Very slim ,light weight easily carry in ...  \\n\\n  Very slim ,light weight easily carry in ...\n",
              "1     \\n\\n  I bought this exchanging my Acer Aspire ...  \\n\\n  I bought this exchanging my Acer Aspire ...\n",
              "2     \\n\\n  initial impression is excellent...light ...  \\n\\n  initial impression is excellent...light ...\n",
              "3     \\n\\n  I am a Computer Technician, and i have p...  \\n\\n  I am a Computer Technician, and i have p...\n",
              "4     \\n\\n  I am writing this review after using the...  \\n\\n  I am writing this review after using the...\n",
              "...                                                 ...                                                ...\n",
              "1654                                     \\n\\n  Good\\n\\n                                     \\n\\n  Good\\n\\n\n",
              "1655  \\n\\n  Disappointed, slowest speed I seen ever,...  \\n\\n  Disappointed, slowest speed I seen ever,...\n",
              "1656  \\n\\n  I would request buyers to kindly check t...  \\n\\n  I would request buyers to kindly check t...\n",
              "1657  \\n\\n  Disappointed, slowest speed I seen ever,...  \\n\\n  Disappointed, slowest speed I seen ever,...\n",
              "1658  \\n\\n  I would request buyers to kindly check t...  \\n\\n  I would request buyers to kindly check t...\n",
              "\n",
              "[1659 rows x 2 columns]"
            ]
          },
          "metadata": {
            "tags": []
          },
          "execution_count": 4
        }
      ]
    },
    {
      "cell_type": "code",
      "metadata": {
        "colab": {
          "base_uri": "https://localhost:8080/"
        },
        "id": "fgn7Y5eTssTr",
        "outputId": "1879b731-d8dc-4ed3-fc1b-b8618e9f39f4"
      },
      "source": [
        "import nltk\n",
        "nltk.download('stopwords')\n",
        "stopwords_list = nltk.corpus.stopwords.words('english')\n",
        "stopwords_list.remove('no')\n",
        "stopwords_list.remove('not')\n",
        "stopwords_list.remove(\"doesn't\")\n",
        "print(stopwords_list)\n",
        "len(stopwords_list)"
      ],
      "execution_count": null,
      "outputs": [
        {
          "output_type": "stream",
          "text": [
            "[nltk_data] Downloading package stopwords to /root/nltk_data...\n",
            "[nltk_data]   Unzipping corpora/stopwords.zip.\n",
            "['i', 'me', 'my', 'myself', 'we', 'our', 'ours', 'ourselves', 'you', \"you're\", \"you've\", \"you'll\", \"you'd\", 'your', 'yours', 'yourself', 'yourselves', 'he', 'him', 'his', 'himself', 'she', \"she's\", 'her', 'hers', 'herself', 'it', \"it's\", 'its', 'itself', 'they', 'them', 'their', 'theirs', 'themselves', 'what', 'which', 'who', 'whom', 'this', 'that', \"that'll\", 'these', 'those', 'am', 'is', 'are', 'was', 'were', 'be', 'been', 'being', 'have', 'has', 'had', 'having', 'do', 'does', 'did', 'doing', 'a', 'an', 'the', 'and', 'but', 'if', 'or', 'because', 'as', 'until', 'while', 'of', 'at', 'by', 'for', 'with', 'about', 'against', 'between', 'into', 'through', 'during', 'before', 'after', 'above', 'below', 'to', 'from', 'up', 'down', 'in', 'out', 'on', 'off', 'over', 'under', 'again', 'further', 'then', 'once', 'here', 'there', 'when', 'where', 'why', 'how', 'all', 'any', 'both', 'each', 'few', 'more', 'most', 'other', 'some', 'such', 'nor', 'only', 'own', 'same', 'so', 'than', 'too', 'very', 's', 't', 'can', 'will', 'just', 'don', \"don't\", 'should', \"should've\", 'now', 'd', 'll', 'm', 'o', 're', 've', 'y', 'ain', 'aren', \"aren't\", 'couldn', \"couldn't\", 'didn', \"didn't\", 'doesn', 'hadn', \"hadn't\", 'hasn', \"hasn't\", 'haven', \"haven't\", 'isn', \"isn't\", 'ma', 'mightn', \"mightn't\", 'mustn', \"mustn't\", 'needn', \"needn't\", 'shan', \"shan't\", 'shouldn', \"shouldn't\", 'wasn', \"wasn't\", 'weren', \"weren't\", 'won', \"won't\", 'wouldn', \"wouldn't\"]\n"
          ],
          "name": "stdout"
        },
        {
          "output_type": "execute_result",
          "data": {
            "text/plain": [
              "176"
            ]
          },
          "metadata": {
            "tags": []
          },
          "execution_count": 5
        }
      ]
    },
    {
      "cell_type": "code",
      "metadata": {
        "id": "rh8uYa6FssTs"
      },
      "source": [
        "from nltk.tokenize.toktok import ToktokTokenizer\n",
        "tokenizer = ToktokTokenizer()\n",
        "def remove_stopwords(text):\n",
        "  tokens = tokenizer.tokenize(text)\n",
        "  tokens = [token.strip() for token in tokens]\n",
        "  filtered_tokens = [token for token in tokens if token not in stopwords_list]\n",
        "  new_text = ' '.join(filtered_tokens)\n",
        "  return new_text"
      ],
      "execution_count": null,
      "outputs": []
    },
    {
      "cell_type": "code",
      "metadata": {
        "id": "EnjoQKhrkGLS"
      },
      "source": [
        "import string\n",
        "def remove_punctuation(text):\n",
        "  new_text=\"\".join([x for x in text if x not in string.punctuation])\n",
        "  return new_text"
      ],
      "execution_count": null,
      "outputs": []
    },
    {
      "cell_type": "code",
      "metadata": {
        "id": "8bHKfjVrssTs"
      },
      "source": [
        "def remove_html(text):\n",
        "  soup = BeautifulSoup(text,'html.parser')\n",
        "  new_text = soup.get_text()\n",
        "  return new_text"
      ],
      "execution_count": null,
      "outputs": []
    },
    {
      "cell_type": "code",
      "metadata": {
        "colab": {
          "base_uri": "https://localhost:8080/"
        },
        "id": "tvQTjPJAssTt",
        "outputId": "e7bfe3aa-7a9e-4b6c-f7f9-9970d2284388"
      },
      "source": [
        "!pip install unidecode\n",
        "import unidecode\n",
        "def remove_accents(text):\n",
        "  new_text = unidecode.unidecode(text)\n",
        "  return new_text"
      ],
      "execution_count": null,
      "outputs": [
        {
          "output_type": "stream",
          "text": [
            "Collecting unidecode\n",
            "\u001b[?25l  Downloading https://files.pythonhosted.org/packages/9e/25/723487ca2a52ebcee88a34d7d1f5a4b80b793f179ee0f62d5371938dfa01/Unidecode-1.2.0-py2.py3-none-any.whl (241kB)\n",
            "\r\u001b[K     |█▍                              | 10kB 14.8MB/s eta 0:00:01\r\u001b[K     |██▊                             | 20kB 9.5MB/s eta 0:00:01\r\u001b[K     |████                            | 30kB 5.6MB/s eta 0:00:01\r\u001b[K     |█████▍                          | 40kB 5.2MB/s eta 0:00:01\r\u001b[K     |██████▉                         | 51kB 2.9MB/s eta 0:00:01\r\u001b[K     |████████▏                       | 61kB 3.3MB/s eta 0:00:01\r\u001b[K     |█████████▌                      | 71kB 3.3MB/s eta 0:00:01\r\u001b[K     |██████████▉                     | 81kB 3.6MB/s eta 0:00:01\r\u001b[K     |████████████▏                   | 92kB 3.5MB/s eta 0:00:01\r\u001b[K     |█████████████▋                  | 102kB 3.8MB/s eta 0:00:01\r\u001b[K     |███████████████                 | 112kB 3.8MB/s eta 0:00:01\r\u001b[K     |████████████████▎               | 122kB 3.8MB/s eta 0:00:01\r\u001b[K     |█████████████████▋              | 133kB 3.8MB/s eta 0:00:01\r\u001b[K     |███████████████████             | 143kB 3.8MB/s eta 0:00:01\r\u001b[K     |████████████████████▍           | 153kB 3.8MB/s eta 0:00:01\r\u001b[K     |█████████████████████▊          | 163kB 3.8MB/s eta 0:00:01\r\u001b[K     |███████████████████████         | 174kB 3.8MB/s eta 0:00:01\r\u001b[K     |████████████████████████▍       | 184kB 3.8MB/s eta 0:00:01\r\u001b[K     |█████████████████████████▊      | 194kB 3.8MB/s eta 0:00:01\r\u001b[K     |███████████████████████████▏    | 204kB 3.8MB/s eta 0:00:01\r\u001b[K     |████████████████████████████▌   | 215kB 3.8MB/s eta 0:00:01\r\u001b[K     |█████████████████████████████▉  | 225kB 3.8MB/s eta 0:00:01\r\u001b[K     |███████████████████████████████▏| 235kB 3.8MB/s eta 0:00:01\r\u001b[K     |████████████████████████████████| 245kB 3.8MB/s \n",
            "\u001b[?25hInstalling collected packages: unidecode\n",
            "Successfully installed unidecode-1.2.0\n"
          ],
          "name": "stdout"
        }
      ]
    },
    {
      "cell_type": "code",
      "metadata": {
        "colab": {
          "base_uri": "https://localhost:8080/"
        },
        "id": "gOrnPoRcssTu",
        "outputId": "571d5e82-1140-4b58-a579-2c402763a4a0"
      },
      "source": [
        "!pip install contractions\n",
        "import contractions\n",
        "def contraction(text):\n",
        "  new_text = contractions.fix(text)\n",
        "  return new_text"
      ],
      "execution_count": null,
      "outputs": [
        {
          "output_type": "stream",
          "text": [
            "Collecting contractions\n",
            "  Downloading https://files.pythonhosted.org/packages/0a/04/d5e0bb9f2cef5d15616ebf68087a725c5dbdd71bd422bcfb35d709f98ce7/contractions-0.0.48-py2.py3-none-any.whl\n",
            "Collecting textsearch>=0.0.21\n",
            "  Downloading https://files.pythonhosted.org/packages/d3/fe/021d7d76961b5ceb9f8d022c4138461d83beff36c3938dc424586085e559/textsearch-0.0.21-py2.py3-none-any.whl\n",
            "Collecting pyahocorasick\n",
            "\u001b[?25l  Downloading https://files.pythonhosted.org/packages/7f/c2/eae730037ae1cbbfaa229d27030d1d5e34a1e41114b21447d1202ae9c220/pyahocorasick-1.4.2.tar.gz (321kB)\n",
            "\u001b[K     |████████████████████████████████| 327kB 2.8MB/s \n",
            "\u001b[?25hCollecting anyascii\n",
            "\u001b[?25l  Downloading https://files.pythonhosted.org/packages/a3/14/666cd44bf53f36a961544af592cb5c5c800013f9c51a4745af8d7c17362a/anyascii-0.2.0-py3-none-any.whl (283kB)\n",
            "\u001b[K     |████████████████████████████████| 286kB 5.0MB/s \n",
            "\u001b[?25hBuilding wheels for collected packages: pyahocorasick\n",
            "  Building wheel for pyahocorasick (setup.py) ... \u001b[?25l\u001b[?25hdone\n",
            "  Created wheel for pyahocorasick: filename=pyahocorasick-1.4.2-cp37-cp37m-linux_x86_64.whl size=85399 sha256=08bc6223f28352cb2b6aabcf84be07abc3f2aa722339dcb1861bc27d68944b3e\n",
            "  Stored in directory: /root/.cache/pip/wheels/3a/03/34/77e3ece0bba8b86bfac88a79f923b36d805cad63caeba38842\n",
            "Successfully built pyahocorasick\n",
            "Installing collected packages: pyahocorasick, anyascii, textsearch, contractions\n",
            "Successfully installed anyascii-0.2.0 contractions-0.0.48 pyahocorasick-1.4.2 textsearch-0.0.21\n"
          ],
          "name": "stdout"
        }
      ]
    },
    {
      "cell_type": "code",
      "metadata": {
        "id": "aAa-WOBissTu"
      },
      "source": [
        "import re\n",
        "def remove_special_chars(text):\n",
        "  change = r'[^A-Za-z0-9\\s]'\n",
        "  new_text = re.sub(change,'',text)\n",
        "  return new_text"
      ],
      "execution_count": null,
      "outputs": []
    },
    {
      "cell_type": "code",
      "metadata": {
        "id": "4Y05eg3sjMPX"
      },
      "source": [
        "def remove_extraspace(text):\n",
        "    return  \" \".join(text.split())"
      ],
      "execution_count": null,
      "outputs": []
    },
    {
      "cell_type": "code",
      "metadata": {
        "colab": {
          "base_uri": "https://localhost:8080/"
        },
        "id": "sfyk8KFa4GZs",
        "outputId": "616f5c57-9745-4856-9d55-aed96f8ddf3f"
      },
      "source": [
        "import nltk\n",
        "nltk.download('punkt')\n",
        "nltk.download('wordnet')\n",
        "nltk.download('averaged_perceptron_tagger')\n",
        "from nltk.stem import WordNetLemmatizer\n",
        "from nltk.corpus import wordnet\n",
        "lem = WordNetLemmatizer()\n",
        "def convert(nltk_tag):\n",
        "    if nltk_tag.startswith('J'):\n",
        "        return wordnet.ADJ\n",
        "    elif nltk_tag.startswith('V'):\n",
        "        return wordnet.VERB\n",
        "    elif nltk_tag.startswith('N'):\n",
        "        return wordnet.NOUN\n",
        "    elif nltk_tag.startswith('R'):\n",
        "        return wordnet.ADV\n",
        "    else:          \n",
        "        return None\n",
        "def lemmatizing(sentence):\n",
        "    nltk_tagged = nltk.pos_tag(nltk.word_tokenize(sentence))  \n",
        "    wordnet_tagged = map(lambda x: (x[0], convert(x[1])), nltk_tagged)\n",
        "    lemmatized_sentence = []\n",
        "    for word, tag in wordnet_tagged:\n",
        "        if tag is None:\n",
        "            lemmatized_sentence.append(word)\n",
        "        else:        \n",
        "            lemmatized_sentence.append(lem.lemmatize(word, tag))\n",
        "    return \" \".join(lemmatized_sentence)"
      ],
      "execution_count": null,
      "outputs": [
        {
          "output_type": "stream",
          "text": [
            "[nltk_data] Downloading package punkt to /root/nltk_data...\n",
            "[nltk_data]   Unzipping tokenizers/punkt.zip.\n",
            "[nltk_data] Downloading package wordnet to /root/nltk_data...\n",
            "[nltk_data]   Unzipping corpora/wordnet.zip.\n",
            "[nltk_data] Downloading package averaged_perceptron_tagger to\n",
            "[nltk_data]     /root/nltk_data...\n",
            "[nltk_data]   Unzipping taggers/averaged_perceptron_tagger.zip.\n"
          ],
          "name": "stdout"
        }
      ]
    },
    {
      "cell_type": "code",
      "metadata": {
        "id": "ZIQj6WtGcnZJ"
      },
      "source": [
        "reviews['Cleaned_Reviews'] = reviews['Cleaned_Reviews'].apply(lambda x: x.strip('\\n'))"
      ],
      "execution_count": null,
      "outputs": []
    },
    {
      "cell_type": "code",
      "metadata": {
        "id": "N5CDzGyJtilc"
      },
      "source": [
        "reviews.Cleaned_Reviews = reviews.Cleaned_Reviews.apply(lambda x:x.lower())\n",
        "reviews.Cleaned_Reviews = reviews.Cleaned_Reviews.apply(remove_stopwords)\n",
        "reviews.Cleaned_Reviews = reviews.Cleaned_Reviews.apply(remove_html)\n",
        "reviews.Cleaned_Reviews = reviews.Cleaned_Reviews.apply(remove_accents)\n",
        "reviews.Cleaned_Reviews = reviews.Cleaned_Reviews.apply(contraction)\n",
        "reviews.Cleaned_Reviews = reviews.Cleaned_Reviews.apply(remove_special_chars)\n",
        "reviews.Cleaned_Reviews = reviews.Cleaned_Reviews.apply(remove_extraspace)\n",
        "reviews.Cleaned_Reviews = reviews.Cleaned_Reviews.apply(remove_punctuation)\n",
        "reviews.Cleaned_Reviews = reviews.Cleaned_Reviews.apply(lemmatizing)"
      ],
      "execution_count": null,
      "outputs": []
    },
    {
      "cell_type": "code",
      "metadata": {
        "colab": {
          "base_uri": "https://localhost:8080/",
          "height": 195
        },
        "id": "cbJrzA40ssTv",
        "outputId": "852cf3c0-0639-4ffe-c9fe-f2d2835446c6"
      },
      "source": [
        "reviews.head()"
      ],
      "execution_count": null,
      "outputs": [
        {
          "output_type": "execute_result",
          "data": {
            "text/html": [
              "<div>\n",
              "<style scoped>\n",
              "    .dataframe tbody tr th:only-of-type {\n",
              "        vertical-align: middle;\n",
              "    }\n",
              "\n",
              "    .dataframe tbody tr th {\n",
              "        vertical-align: top;\n",
              "    }\n",
              "\n",
              "    .dataframe thead th {\n",
              "        text-align: right;\n",
              "    }\n",
              "</style>\n",
              "<table border=\"1\" class=\"dataframe\">\n",
              "  <thead>\n",
              "    <tr style=\"text-align: right;\">\n",
              "      <th></th>\n",
              "      <th>Customer_Reviews</th>\n",
              "      <th>Cleaned_Reviews</th>\n",
              "    </tr>\n",
              "  </thead>\n",
              "  <tbody>\n",
              "    <tr>\n",
              "      <th>0</th>\n",
              "      <td>\\n\\n  Very slim ,light weight easily carry in ...</td>\n",
              "      <td>slim light weight easily carry travelinggood b...</td>\n",
              "    </tr>\n",
              "    <tr>\n",
              "      <th>1</th>\n",
              "      <td>\\n\\n  I bought this exchanging my Acer Aspire ...</td>\n",
              "      <td>buy exchange acer aspire v5 intel i3 laptop si...</td>\n",
              "    </tr>\n",
              "    <tr>\n",
              "      <th>2</th>\n",
              "      <td>\\n\\n  initial impression is excellent...light ...</td>\n",
              "      <td>initial impression excellent light weight thin...</td>\n",
              "    </tr>\n",
              "    <tr>\n",
              "      <th>3</th>\n",
              "      <td>\\n\\n  I am a Computer Technician, and i have p...</td>\n",
              "      <td>computer technician purchase configured 5 thes...</td>\n",
              "    </tr>\n",
              "    <tr>\n",
              "      <th>4</th>\n",
              "      <td>\\n\\n  I am writing this review after using the...</td>\n",
              "      <td>write review use laptop one month1 m office 20...</td>\n",
              "    </tr>\n",
              "  </tbody>\n",
              "</table>\n",
              "</div>"
            ],
            "text/plain": [
              "                                    Customer_Reviews                                    Cleaned_Reviews\n",
              "0  \\n\\n  Very slim ,light weight easily carry in ...  slim light weight easily carry travelinggood b...\n",
              "1  \\n\\n  I bought this exchanging my Acer Aspire ...  buy exchange acer aspire v5 intel i3 laptop si...\n",
              "2  \\n\\n  initial impression is excellent...light ...  initial impression excellent light weight thin...\n",
              "3  \\n\\n  I am a Computer Technician, and i have p...  computer technician purchase configured 5 thes...\n",
              "4  \\n\\n  I am writing this review after using the...  write review use laptop one month1 m office 20..."
            ]
          },
          "metadata": {
            "tags": []
          },
          "execution_count": 16
        }
      ]
    },
    {
      "cell_type": "code",
      "metadata": {
        "colab": {
          "base_uri": "https://localhost:8080/",
          "height": 195
        },
        "id": "69Kcc7pBY1_n",
        "outputId": "394e9073-c29c-4867-83bf-feca8b11864b"
      },
      "source": [
        "reviews.sample(5)"
      ],
      "execution_count": null,
      "outputs": [
        {
          "output_type": "execute_result",
          "data": {
            "text/html": [
              "<div>\n",
              "<style scoped>\n",
              "    .dataframe tbody tr th:only-of-type {\n",
              "        vertical-align: middle;\n",
              "    }\n",
              "\n",
              "    .dataframe tbody tr th {\n",
              "        vertical-align: top;\n",
              "    }\n",
              "\n",
              "    .dataframe thead th {\n",
              "        text-align: right;\n",
              "    }\n",
              "</style>\n",
              "<table border=\"1\" class=\"dataframe\">\n",
              "  <thead>\n",
              "    <tr style=\"text-align: right;\">\n",
              "      <th></th>\n",
              "      <th>Customer_Reviews</th>\n",
              "      <th>Cleaned_Reviews</th>\n",
              "    </tr>\n",
              "  </thead>\n",
              "  <tbody>\n",
              "    <tr>\n",
              "      <th>1226</th>\n",
              "      <td>\\n\\n  Looks are good and its slimAnd charges r...</td>\n",
              "      <td>looks good slimand charge really fastits batte...</td>\n",
              "    </tr>\n",
              "    <tr>\n",
              "      <th>73</th>\n",
              "      <td>\\n\\n  Entry level laptop.For students .Not for...</td>\n",
              "      <td>entry level laptopfor student not game</td>\n",
              "    </tr>\n",
              "    <tr>\n",
              "      <th>106</th>\n",
              "      <td>\\n\\n  Sir, I want service and warranty but Not...</td>\n",
              "      <td>sir want service warranty not informationmany ...</td>\n",
              "    </tr>\n",
              "    <tr>\n",
              "      <th>618</th>\n",
              "      <td>\\n\\n  At such price the laptop is good for bas...</td>\n",
              "      <td>price laptop good basic office work online bro...</td>\n",
              "    </tr>\n",
              "    <tr>\n",
              "      <th>86</th>\n",
              "      <td>\\n\\n  Best value for money. For day to day wor...</td>\n",
              "      <td>best value money day day work</td>\n",
              "    </tr>\n",
              "  </tbody>\n",
              "</table>\n",
              "</div>"
            ],
            "text/plain": [
              "                                       Customer_Reviews                                    Cleaned_Reviews\n",
              "1226  \\n\\n  Looks are good and its slimAnd charges r...  looks good slimand charge really fastits batte...\n",
              "73    \\n\\n  Entry level laptop.For students .Not for...             entry level laptopfor student not game\n",
              "106   \\n\\n  Sir, I want service and warranty but Not...  sir want service warranty not informationmany ...\n",
              "618   \\n\\n  At such price the laptop is good for bas...  price laptop good basic office work online bro...\n",
              "86    \\n\\n  Best value for money. For day to day wor...                      best value money day day work"
            ]
          },
          "metadata": {
            "tags": []
          },
          "execution_count": 17
        }
      ]
    },
    {
      "cell_type": "code",
      "metadata": {
        "colab": {
          "base_uri": "https://localhost:8080/"
        },
        "id": "8lgPzq65jc4-",
        "outputId": "ee526121-93fe-4dd7-c1ae-eaeb244111f6"
      },
      "source": [
        "!pip install VaderSentiment"
      ],
      "execution_count": null,
      "outputs": [
        {
          "output_type": "stream",
          "text": [
            "Collecting VaderSentiment\n",
            "\u001b[?25l  Downloading https://files.pythonhosted.org/packages/76/fc/310e16254683c1ed35eeb97386986d6c00bc29df17ce280aed64d55537e9/vaderSentiment-3.3.2-py2.py3-none-any.whl (125kB)\n",
            "\r\u001b[K     |██▋                             | 10kB 12.5MB/s eta 0:00:01\r\u001b[K     |█████▏                          | 20kB 9.5MB/s eta 0:00:01\r\u001b[K     |███████▉                        | 30kB 5.3MB/s eta 0:00:01\r\u001b[K     |██████████▍                     | 40kB 5.1MB/s eta 0:00:01\r\u001b[K     |█████████████                   | 51kB 2.7MB/s eta 0:00:01\r\u001b[K     |███████████████▋                | 61kB 3.2MB/s eta 0:00:01\r\u001b[K     |██████████████████▏             | 71kB 3.3MB/s eta 0:00:01\r\u001b[K     |████████████████████▉           | 81kB 3.6MB/s eta 0:00:01\r\u001b[K     |███████████████████████▍        | 92kB 3.6MB/s eta 0:00:01\r\u001b[K     |██████████████████████████      | 102kB 3.9MB/s eta 0:00:01\r\u001b[K     |████████████████████████████▋   | 112kB 3.9MB/s eta 0:00:01\r\u001b[K     |███████████████████████████████▏| 122kB 3.9MB/s eta 0:00:01\r\u001b[K     |████████████████████████████████| 133kB 3.9MB/s \n",
            "\u001b[?25hRequirement already satisfied: requests in /usr/local/lib/python3.7/dist-packages (from VaderSentiment) (2.23.0)\n",
            "Requirement already satisfied: urllib3!=1.25.0,!=1.25.1,<1.26,>=1.21.1 in /usr/local/lib/python3.7/dist-packages (from requests->VaderSentiment) (1.24.3)\n",
            "Requirement already satisfied: chardet<4,>=3.0.2 in /usr/local/lib/python3.7/dist-packages (from requests->VaderSentiment) (3.0.4)\n",
            "Requirement already satisfied: certifi>=2017.4.17 in /usr/local/lib/python3.7/dist-packages (from requests->VaderSentiment) (2020.12.5)\n",
            "Requirement already satisfied: idna<3,>=2.5 in /usr/local/lib/python3.7/dist-packages (from requests->VaderSentiment) (2.10)\n",
            "Installing collected packages: VaderSentiment\n",
            "Successfully installed VaderSentiment-3.3.2\n"
          ],
          "name": "stdout"
        }
      ]
    },
    {
      "cell_type": "code",
      "metadata": {
        "id": "FAA8X6ygj91k"
      },
      "source": [
        "from vaderSentiment.vaderSentiment import SentimentIntensityAnalyzer\n",
        "vs = SentimentIntensityAnalyzer()"
      ],
      "execution_count": null,
      "outputs": []
    },
    {
      "cell_type": "code",
      "metadata": {
        "id": "otaNkV7ekLgA"
      },
      "source": [
        "reviews['Sentiment_score'] = reviews['Cleaned_Reviews'].apply(lambda x: vs.polarity_scores(x)['compound'])"
      ],
      "execution_count": null,
      "outputs": []
    },
    {
      "cell_type": "code",
      "metadata": {
        "colab": {
          "base_uri": "https://localhost:8080/",
          "height": 195
        },
        "id": "oJavbSg6lHo3",
        "outputId": "17a9f016-41ef-4d35-8e80-7a7a1bd4520e"
      },
      "source": [
        "reviews.head()"
      ],
      "execution_count": null,
      "outputs": [
        {
          "output_type": "execute_result",
          "data": {
            "text/html": [
              "<div>\n",
              "<style scoped>\n",
              "    .dataframe tbody tr th:only-of-type {\n",
              "        vertical-align: middle;\n",
              "    }\n",
              "\n",
              "    .dataframe tbody tr th {\n",
              "        vertical-align: top;\n",
              "    }\n",
              "\n",
              "    .dataframe thead th {\n",
              "        text-align: right;\n",
              "    }\n",
              "</style>\n",
              "<table border=\"1\" class=\"dataframe\">\n",
              "  <thead>\n",
              "    <tr style=\"text-align: right;\">\n",
              "      <th></th>\n",
              "      <th>Customer_Reviews</th>\n",
              "      <th>Cleaned_Reviews</th>\n",
              "      <th>Sentiment_score</th>\n",
              "    </tr>\n",
              "  </thead>\n",
              "  <tbody>\n",
              "    <tr>\n",
              "      <th>0</th>\n",
              "      <td>\\n\\n  Very slim ,light weight easily carry in ...</td>\n",
              "      <td>slim light weight easily carry travelinggood b...</td>\n",
              "      <td>0.7650</td>\n",
              "    </tr>\n",
              "    <tr>\n",
              "      <th>1</th>\n",
              "      <td>\\n\\n  I bought this exchanging my Acer Aspire ...</td>\n",
              "      <td>buy exchange acer aspire v5 intel i3 laptop si...</td>\n",
              "      <td>0.4417</td>\n",
              "    </tr>\n",
              "    <tr>\n",
              "      <th>2</th>\n",
              "      <td>\\n\\n  initial impression is excellent...light ...</td>\n",
              "      <td>initial impression excellent light weight thin...</td>\n",
              "      <td>0.6808</td>\n",
              "    </tr>\n",
              "    <tr>\n",
              "      <th>3</th>\n",
              "      <td>\\n\\n  I am a Computer Technician, and i have p...</td>\n",
              "      <td>computer technician purchase configured 5 thes...</td>\n",
              "      <td>0.9758</td>\n",
              "    </tr>\n",
              "    <tr>\n",
              "      <th>4</th>\n",
              "      <td>\\n\\n  I am writing this review after using the...</td>\n",
              "      <td>write review use laptop one month1 m office 20...</td>\n",
              "      <td>0.9383</td>\n",
              "    </tr>\n",
              "  </tbody>\n",
              "</table>\n",
              "</div>"
            ],
            "text/plain": [
              "                                    Customer_Reviews  ... Sentiment_score\n",
              "0  \\n\\n  Very slim ,light weight easily carry in ...  ...          0.7650\n",
              "1  \\n\\n  I bought this exchanging my Acer Aspire ...  ...          0.4417\n",
              "2  \\n\\n  initial impression is excellent...light ...  ...          0.6808\n",
              "3  \\n\\n  I am a Computer Technician, and i have p...  ...          0.9758\n",
              "4  \\n\\n  I am writing this review after using the...  ...          0.9383\n",
              "\n",
              "[5 rows x 3 columns]"
            ]
          },
          "metadata": {
            "tags": []
          },
          "execution_count": 21
        }
      ]
    },
    {
      "cell_type": "code",
      "metadata": {
        "id": "8ZA4LTPUlP4t",
        "colab": {
          "base_uri": "https://localhost:8080/",
          "height": 402
        },
        "outputId": "94332254-6459-470e-ff31-8626171e2eff"
      },
      "source": [
        "reviews"
      ],
      "execution_count": null,
      "outputs": [
        {
          "output_type": "execute_result",
          "data": {
            "text/html": [
              "<div>\n",
              "<style scoped>\n",
              "    .dataframe tbody tr th:only-of-type {\n",
              "        vertical-align: middle;\n",
              "    }\n",
              "\n",
              "    .dataframe tbody tr th {\n",
              "        vertical-align: top;\n",
              "    }\n",
              "\n",
              "    .dataframe thead th {\n",
              "        text-align: right;\n",
              "    }\n",
              "</style>\n",
              "<table border=\"1\" class=\"dataframe\">\n",
              "  <thead>\n",
              "    <tr style=\"text-align: right;\">\n",
              "      <th></th>\n",
              "      <th>Customer_Reviews</th>\n",
              "      <th>Cleaned_Reviews</th>\n",
              "      <th>Sentiment_score</th>\n",
              "    </tr>\n",
              "  </thead>\n",
              "  <tbody>\n",
              "    <tr>\n",
              "      <th>0</th>\n",
              "      <td>\\n\\n  Very slim ,light weight easily carry in ...</td>\n",
              "      <td>slim light weight easily carry travelinggood b...</td>\n",
              "      <td>0.7650</td>\n",
              "    </tr>\n",
              "    <tr>\n",
              "      <th>1</th>\n",
              "      <td>\\n\\n  I bought this exchanging my Acer Aspire ...</td>\n",
              "      <td>buy exchange acer aspire v5 intel i3 laptop si...</td>\n",
              "      <td>0.4417</td>\n",
              "    </tr>\n",
              "    <tr>\n",
              "      <th>2</th>\n",
              "      <td>\\n\\n  initial impression is excellent...light ...</td>\n",
              "      <td>initial impression excellent light weight thin...</td>\n",
              "      <td>0.6808</td>\n",
              "    </tr>\n",
              "    <tr>\n",
              "      <th>3</th>\n",
              "      <td>\\n\\n  I am a Computer Technician, and i have p...</td>\n",
              "      <td>computer technician purchase configured 5 thes...</td>\n",
              "      <td>0.9758</td>\n",
              "    </tr>\n",
              "    <tr>\n",
              "      <th>4</th>\n",
              "      <td>\\n\\n  I am writing this review after using the...</td>\n",
              "      <td>write review use laptop one month1 m office 20...</td>\n",
              "      <td>0.9383</td>\n",
              "    </tr>\n",
              "    <tr>\n",
              "      <th>...</th>\n",
              "      <td>...</td>\n",
              "      <td>...</td>\n",
              "      <td>...</td>\n",
              "    </tr>\n",
              "    <tr>\n",
              "      <th>1654</th>\n",
              "      <td>\\n\\n  Good\\n\\n</td>\n",
              "      <td>good</td>\n",
              "      <td>0.4404</td>\n",
              "    </tr>\n",
              "    <tr>\n",
              "      <th>1655</th>\n",
              "      <td>\\n\\n  Disappointed, slowest speed I seen ever,...</td>\n",
              "      <td>disappointed slow speed see ever sigma dealer ...</td>\n",
              "      <td>-0.8360</td>\n",
              "    </tr>\n",
              "    <tr>\n",
              "      <th>1656</th>\n",
              "      <td>\\n\\n  I would request buyers to kindly check t...</td>\n",
              "      <td>would request buyer kindly check product buy l...</td>\n",
              "      <td>0.4019</td>\n",
              "    </tr>\n",
              "    <tr>\n",
              "      <th>1657</th>\n",
              "      <td>\\n\\n  Disappointed, slowest speed I seen ever,...</td>\n",
              "      <td>disappointed slow speed see ever sigma dealer ...</td>\n",
              "      <td>-0.8360</td>\n",
              "    </tr>\n",
              "    <tr>\n",
              "      <th>1658</th>\n",
              "      <td>\\n\\n  I would request buyers to kindly check t...</td>\n",
              "      <td>would request buyer kindly check product buy l...</td>\n",
              "      <td>0.4019</td>\n",
              "    </tr>\n",
              "  </tbody>\n",
              "</table>\n",
              "<p>1659 rows × 3 columns</p>\n",
              "</div>"
            ],
            "text/plain": [
              "                                       Customer_Reviews  ... Sentiment_score\n",
              "0     \\n\\n  Very slim ,light weight easily carry in ...  ...          0.7650\n",
              "1     \\n\\n  I bought this exchanging my Acer Aspire ...  ...          0.4417\n",
              "2     \\n\\n  initial impression is excellent...light ...  ...          0.6808\n",
              "3     \\n\\n  I am a Computer Technician, and i have p...  ...          0.9758\n",
              "4     \\n\\n  I am writing this review after using the...  ...          0.9383\n",
              "...                                                 ...  ...             ...\n",
              "1654                                     \\n\\n  Good\\n\\n  ...          0.4404\n",
              "1655  \\n\\n  Disappointed, slowest speed I seen ever,...  ...         -0.8360\n",
              "1656  \\n\\n  I would request buyers to kindly check t...  ...          0.4019\n",
              "1657  \\n\\n  Disappointed, slowest speed I seen ever,...  ...         -0.8360\n",
              "1658  \\n\\n  I would request buyers to kindly check t...  ...          0.4019\n",
              "\n",
              "[1659 rows x 3 columns]"
            ]
          },
          "metadata": {
            "tags": []
          },
          "execution_count": 22
        }
      ]
    },
    {
      "cell_type": "code",
      "metadata": {
        "id": "nlfeMISpp9lw"
      },
      "source": [
        "def sentiment(num):\n",
        "  if num>=0.05:\n",
        "    return 'positive'\n",
        "  elif num<=-0.05:\n",
        "    return 'negative'\n",
        "  else:\n",
        "    return 'neutral'\n"
      ],
      "execution_count": null,
      "outputs": []
    },
    {
      "cell_type": "code",
      "metadata": {
        "id": "tehZFG5m3jud"
      },
      "source": [
        "reviews['Sentiment'] = reviews['Sentiment_score'].apply(lambda x: sentiment(x))"
      ],
      "execution_count": null,
      "outputs": []
    },
    {
      "cell_type": "code",
      "metadata": {
        "colab": {
          "base_uri": "https://localhost:8080/",
          "height": 402
        },
        "id": "qS8OD8IP4BLi",
        "outputId": "e638a5c1-b092-4856-eb9e-bb5532246b3f"
      },
      "source": [
        "reviews"
      ],
      "execution_count": null,
      "outputs": [
        {
          "output_type": "execute_result",
          "data": {
            "text/html": [
              "<div>\n",
              "<style scoped>\n",
              "    .dataframe tbody tr th:only-of-type {\n",
              "        vertical-align: middle;\n",
              "    }\n",
              "\n",
              "    .dataframe tbody tr th {\n",
              "        vertical-align: top;\n",
              "    }\n",
              "\n",
              "    .dataframe thead th {\n",
              "        text-align: right;\n",
              "    }\n",
              "</style>\n",
              "<table border=\"1\" class=\"dataframe\">\n",
              "  <thead>\n",
              "    <tr style=\"text-align: right;\">\n",
              "      <th></th>\n",
              "      <th>Customer_Reviews</th>\n",
              "      <th>Cleaned_Reviews</th>\n",
              "      <th>Sentiment_score</th>\n",
              "      <th>Sentiment</th>\n",
              "    </tr>\n",
              "  </thead>\n",
              "  <tbody>\n",
              "    <tr>\n",
              "      <th>0</th>\n",
              "      <td>\\n\\n  Very slim ,light weight easily carry in ...</td>\n",
              "      <td>slim light weight easily carry travelinggood b...</td>\n",
              "      <td>0.7650</td>\n",
              "      <td>positive</td>\n",
              "    </tr>\n",
              "    <tr>\n",
              "      <th>1</th>\n",
              "      <td>\\n\\n  I bought this exchanging my Acer Aspire ...</td>\n",
              "      <td>buy exchange acer aspire v5 intel i3 laptop si...</td>\n",
              "      <td>0.4417</td>\n",
              "      <td>positive</td>\n",
              "    </tr>\n",
              "    <tr>\n",
              "      <th>2</th>\n",
              "      <td>\\n\\n  initial impression is excellent...light ...</td>\n",
              "      <td>initial impression excellent light weight thin...</td>\n",
              "      <td>0.6808</td>\n",
              "      <td>positive</td>\n",
              "    </tr>\n",
              "    <tr>\n",
              "      <th>3</th>\n",
              "      <td>\\n\\n  I am a Computer Technician, and i have p...</td>\n",
              "      <td>computer technician purchase configured 5 thes...</td>\n",
              "      <td>0.9758</td>\n",
              "      <td>positive</td>\n",
              "    </tr>\n",
              "    <tr>\n",
              "      <th>4</th>\n",
              "      <td>\\n\\n  I am writing this review after using the...</td>\n",
              "      <td>write review use laptop one month1 m office 20...</td>\n",
              "      <td>0.9383</td>\n",
              "      <td>positive</td>\n",
              "    </tr>\n",
              "    <tr>\n",
              "      <th>...</th>\n",
              "      <td>...</td>\n",
              "      <td>...</td>\n",
              "      <td>...</td>\n",
              "      <td>...</td>\n",
              "    </tr>\n",
              "    <tr>\n",
              "      <th>1654</th>\n",
              "      <td>\\n\\n  Good\\n\\n</td>\n",
              "      <td>good</td>\n",
              "      <td>0.4404</td>\n",
              "      <td>positive</td>\n",
              "    </tr>\n",
              "    <tr>\n",
              "      <th>1655</th>\n",
              "      <td>\\n\\n  Disappointed, slowest speed I seen ever,...</td>\n",
              "      <td>disappointed slow speed see ever sigma dealer ...</td>\n",
              "      <td>-0.8360</td>\n",
              "      <td>negative</td>\n",
              "    </tr>\n",
              "    <tr>\n",
              "      <th>1656</th>\n",
              "      <td>\\n\\n  I would request buyers to kindly check t...</td>\n",
              "      <td>would request buyer kindly check product buy l...</td>\n",
              "      <td>0.4019</td>\n",
              "      <td>positive</td>\n",
              "    </tr>\n",
              "    <tr>\n",
              "      <th>1657</th>\n",
              "      <td>\\n\\n  Disappointed, slowest speed I seen ever,...</td>\n",
              "      <td>disappointed slow speed see ever sigma dealer ...</td>\n",
              "      <td>-0.8360</td>\n",
              "      <td>negative</td>\n",
              "    </tr>\n",
              "    <tr>\n",
              "      <th>1658</th>\n",
              "      <td>\\n\\n  I would request buyers to kindly check t...</td>\n",
              "      <td>would request buyer kindly check product buy l...</td>\n",
              "      <td>0.4019</td>\n",
              "      <td>positive</td>\n",
              "    </tr>\n",
              "  </tbody>\n",
              "</table>\n",
              "<p>1659 rows × 4 columns</p>\n",
              "</div>"
            ],
            "text/plain": [
              "                                       Customer_Reviews  ... Sentiment\n",
              "0     \\n\\n  Very slim ,light weight easily carry in ...  ...  positive\n",
              "1     \\n\\n  I bought this exchanging my Acer Aspire ...  ...  positive\n",
              "2     \\n\\n  initial impression is excellent...light ...  ...  positive\n",
              "3     \\n\\n  I am a Computer Technician, and i have p...  ...  positive\n",
              "4     \\n\\n  I am writing this review after using the...  ...  positive\n",
              "...                                                 ...  ...       ...\n",
              "1654                                     \\n\\n  Good\\n\\n  ...  positive\n",
              "1655  \\n\\n  Disappointed, slowest speed I seen ever,...  ...  negative\n",
              "1656  \\n\\n  I would request buyers to kindly check t...  ...  positive\n",
              "1657  \\n\\n  Disappointed, slowest speed I seen ever,...  ...  negative\n",
              "1658  \\n\\n  I would request buyers to kindly check t...  ...  positive\n",
              "\n",
              "[1659 rows x 4 columns]"
            ]
          },
          "metadata": {
            "tags": []
          },
          "execution_count": 25
        }
      ]
    },
    {
      "cell_type": "code",
      "metadata": {
        "colab": {
          "base_uri": "https://localhost:8080/",
          "height": 195
        },
        "id": "TkY41hRj4Gt7",
        "outputId": "4c357a7a-feba-48e1-9784-161b21e883df"
      },
      "source": [
        "reviews.sample(5)"
      ],
      "execution_count": null,
      "outputs": [
        {
          "output_type": "execute_result",
          "data": {
            "text/html": [
              "<div>\n",
              "<style scoped>\n",
              "    .dataframe tbody tr th:only-of-type {\n",
              "        vertical-align: middle;\n",
              "    }\n",
              "\n",
              "    .dataframe tbody tr th {\n",
              "        vertical-align: top;\n",
              "    }\n",
              "\n",
              "    .dataframe thead th {\n",
              "        text-align: right;\n",
              "    }\n",
              "</style>\n",
              "<table border=\"1\" class=\"dataframe\">\n",
              "  <thead>\n",
              "    <tr style=\"text-align: right;\">\n",
              "      <th></th>\n",
              "      <th>Customer_Reviews</th>\n",
              "      <th>Cleaned_Reviews</th>\n",
              "      <th>Sentiment_score</th>\n",
              "      <th>Sentiment</th>\n",
              "    </tr>\n",
              "  </thead>\n",
              "  <tbody>\n",
              "    <tr>\n",
              "      <th>1644</th>\n",
              "      <td>\\n\\n  Very good product..Very usefull\\n\\n</td>\n",
              "      <td>good product usefull</td>\n",
              "      <td>0.4404</td>\n",
              "      <td>positive</td>\n",
              "    </tr>\n",
              "    <tr>\n",
              "      <th>1281</th>\n",
              "      <td>\\n\\n  Good\\n\\n</td>\n",
              "      <td>good</td>\n",
              "      <td>0.4404</td>\n",
              "      <td>positive</td>\n",
              "    </tr>\n",
              "    <tr>\n",
              "      <th>1634</th>\n",
              "      <td>\\n\\n  Best laptop\\n\\n</td>\n",
              "      <td>best laptop</td>\n",
              "      <td>0.6369</td>\n",
              "      <td>positive</td>\n",
              "    </tr>\n",
              "    <tr>\n",
              "      <th>502</th>\n",
              "      <td>\\n\\n  Product description does not mention any...</td>\n",
              "      <td>product description not mention anything scree...</td>\n",
              "      <td>0.0000</td>\n",
              "      <td>neutral</td>\n",
              "    </tr>\n",
              "    <tr>\n",
              "      <th>1337</th>\n",
              "      <td>\\n\\n  Worst product.\\n\\n</td>\n",
              "      <td>bad product</td>\n",
              "      <td>-0.5423</td>\n",
              "      <td>negative</td>\n",
              "    </tr>\n",
              "  </tbody>\n",
              "</table>\n",
              "</div>"
            ],
            "text/plain": [
              "                                       Customer_Reviews  ... Sentiment\n",
              "1644          \\n\\n  Very good product..Very usefull\\n\\n  ...  positive\n",
              "1281                                     \\n\\n  Good\\n\\n  ...  positive\n",
              "1634                              \\n\\n  Best laptop\\n\\n  ...  positive\n",
              "502   \\n\\n  Product description does not mention any...  ...   neutral\n",
              "1337                           \\n\\n  Worst product.\\n\\n  ...  negative\n",
              "\n",
              "[5 rows x 4 columns]"
            ]
          },
          "metadata": {
            "tags": []
          },
          "execution_count": 26
        }
      ]
    },
    {
      "cell_type": "code",
      "metadata": {
        "colab": {
          "base_uri": "https://localhost:8080/",
          "height": 350
        },
        "id": "_4s9rW9Q7l4E",
        "outputId": "25975e74-1e23-4b9f-ead6-8c1d40cab83a"
      },
      "source": [
        "import seaborn as sns\n",
        "sns.countplot(reviews['Sentiment'])"
      ],
      "execution_count": null,
      "outputs": [
        {
          "output_type": "stream",
          "text": [
            "/usr/local/lib/python3.7/dist-packages/seaborn/_decorators.py:43: FutureWarning: Pass the following variable as a keyword arg: x. From version 0.12, the only valid positional argument will be `data`, and passing other arguments without an explicit keyword will result in an error or misinterpretation.\n",
            "  FutureWarning\n"
          ],
          "name": "stderr"
        },
        {
          "output_type": "execute_result",
          "data": {
            "text/plain": [
              "<matplotlib.axes._subplots.AxesSubplot at 0x7fb8209be8d0>"
            ]
          },
          "metadata": {
            "tags": []
          },
          "execution_count": 27
        },
        {
          "output_type": "display_data",
          "data": {
            "image/png": "[encoded data removed]",
            "text/plain": [
              "<Figure size 432x288 with 1 Axes>"
            ]
          },
          "metadata": {
            "tags": [],
            "needs_background": "light"
          }
        }
      ]
    },
    {
      "cell_type": "code",
      "metadata": {
        "id": "QF06iNCR8L-d"
      },
      "source": [
        "reviews.to_csv('Amazon_Reviews.csv',index=False)"
      ],
      "execution_count": null,
      "outputs": []
    },
    {
      "cell_type": "code",
      "metadata": {
        "id": "D37SMeR60Jtr"
      },
      "source": [
        ""
      ],
      "execution_count": null,
      "outputs": []
    }
  ]
}